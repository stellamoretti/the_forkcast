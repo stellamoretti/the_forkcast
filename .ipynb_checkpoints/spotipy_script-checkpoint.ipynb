{
 "cells": [
  {
   "cell_type": "code",
   "execution_count": 164,
   "metadata": {
    "collapsed": true
   },
   "outputs": [],
   "source": [
    "import spotipy\n",
    "import sys\n",
    "import spotipy.util as util"
   ]
  },
  {
   "cell_type": "code",
   "execution_count": 195,
   "metadata": {
    "collapsed": true
   },
   "outputs": [],
   "source": [
    "import pandas as pd\n",
    "import numpy as np"
   ]
  },
  {
   "cell_type": "markdown",
   "metadata": {},
   "source": [
    "### Install Spotipy - a Python client for The Spotify Web API\n",
    "\n",
    "__https://github.com/plamere/spotipy__"
   ]
  },
  {
   "cell_type": "code",
   "execution_count": 167,
   "metadata": {
    "collapsed": true
   },
   "outputs": [],
   "source": [
    "spotify = spotipy.Spotify()"
   ]
  },
  {
   "cell_type": "markdown",
   "metadata": {},
   "source": [
    "### Apply for a key to the Spotify Web API\n",
    "__https://developer.spotify.com/my-applications/#!/applications__"
   ]
  },
  {
   "cell_type": "code",
   "execution_count": 168,
   "metadata": {
    "collapsed": true
   },
   "outputs": [],
   "source": [
    "username = [\"ENTER SPOTIFY USERNAME\"]"
   ]
  },
  {
   "cell_type": "code",
   "execution_count": 169,
   "metadata": {
    "collapsed": true
   },
   "outputs": [],
   "source": [
    "scope = 'user-library-read'"
   ]
  },
  {
   "cell_type": "code",
   "execution_count": 180,
   "metadata": {
    "collapsed": true
   },
   "outputs": [],
   "source": [
    "token = util.prompt_for_user_token(\n",
    "    username,\n",
    "    scope,\n",
    "    client_id=\"ENTER CLIENT ID\",\n",
    "    client_secret=\"ENTER CLIENT SECRET\",\n",
    "    redirect_uri='http://localhost:8888/callback')"
   ]
  },
  {
   "cell_type": "code",
   "execution_count": 181,
   "metadata": {
    "collapsed": true
   },
   "outputs": [],
   "source": [
    "sp = spotipy.Spotify(auth=token)"
   ]
  },
  {
   "cell_type": "markdown",
   "metadata": {},
   "source": [
    "__Get the list of artists corresponding to the album reviews scraped from Pitchfork__"
   ]
  },
  {
   "cell_type": "code",
   "execution_count": 42,
   "metadata": {
    "collapsed": true
   },
   "outputs": [],
   "source": [
    "df_raw = pd.read_json(\"scraped_reviews.json\")"
   ]
  },
  {
   "cell_type": "code",
   "execution_count": 43,
   "metadata": {
    "collapsed": true
   },
   "outputs": [],
   "source": [
    "df = df_raw[df_raw.artist != \"None\"]"
   ]
  },
  {
   "cell_type": "code",
   "execution_count": 44,
   "metadata": {},
   "outputs": [
    {
     "data": {
      "text/plain": [
       "18218"
      ]
     },
     "execution_count": 44,
     "metadata": {},
     "output_type": "execute_result"
    }
   ],
   "source": [
    "len(df)"
   ]
  },
  {
   "cell_type": "code",
   "execution_count": 45,
   "metadata": {
    "collapsed": true
   },
   "outputs": [],
   "source": [
    "all_artists = list(df.artist.unique())"
   ]
  },
  {
   "cell_type": "code",
   "execution_count": 46,
   "metadata": {},
   "outputs": [
    {
     "data": {
      "text/plain": [
       "8703"
      ]
     },
     "execution_count": 46,
     "metadata": {},
     "output_type": "execute_result"
    }
   ],
   "source": [
    "len(all_artists)"
   ]
  },
  {
   "cell_type": "markdown",
   "metadata": {},
   "source": [
    "__Check that the list of artists looks right:__"
   ]
  },
  {
   "cell_type": "code",
   "execution_count": 47,
   "metadata": {},
   "outputs": [
    {
     "data": {
      "text/plain": [
       "['The Rolling Stones',\n",
       " 'Elastica',\n",
       " 'Shannon Lay ',\n",
       " 'Moses Sumney',\n",
       " 'The Blow',\n",
       " 'Hiss Golden Messenger',\n",
       " 'Godspeed You! Black Emperor',\n",
       " 'Acetone',\n",
       " 'Linda Perhacs',\n",
       " 'The Clientele',\n",
       " 'The Killers']"
      ]
     },
     "execution_count": 47,
     "metadata": {},
     "output_type": "execute_result"
    }
   ],
   "source": [
    "all_artists[:11]"
   ]
  },
  {
   "cell_type": "markdown",
   "metadata": {},
   "source": [
    "__Define a function to request artist \"popularity\" using Spotipy__"
   ]
  },
  {
   "cell_type": "code",
   "execution_count": 48,
   "metadata": {
    "collapsed": true
   },
   "outputs": [],
   "source": [
    "def get_popularity(name):\n",
    "    results = sp.search(q='artist:' + name, type='artist')\n",
    "    return results['artists']['items'][0]['popularity']"
   ]
  },
  {
   "cell_type": "markdown",
   "metadata": {},
   "source": [
    "__Define a function which creates a dictionary of Spotify popularity scores for all artists reviewed by Pitchfork__"
   ]
  },
  {
   "cell_type": "code",
   "execution_count": 49,
   "metadata": {
    "collapsed": true
   },
   "outputs": [],
   "source": [
    "def popularity_dictionary(list):\n",
    "    pop_dict = {}\n",
    "    for name in list:\n",
    "        results = sp.search(q='artist:' + name, type='artist')\n",
    "        if results['artists']['items'] == []:\n",
    "            pop_dict[name] = np.nan\n",
    "        else:\n",
    "            pop_dict[name] = results['artists']['items'][0]['popularity']\n",
    "    return pop_dict"
   ]
  },
  {
   "cell_type": "markdown",
   "metadata": {},
   "source": [
    "Test the function:"
   ]
  },
  {
   "cell_type": "code",
   "execution_count": 52,
   "metadata": {},
   "outputs": [
    {
     "data": {
      "text/plain": [
       "{'Radiohead': 82}"
      ]
     },
     "execution_count": 52,
     "metadata": {},
     "output_type": "execute_result"
    }
   ],
   "source": [
    "popularity_dictionary([\"Radiohead\"])"
   ]
  },
  {
   "cell_type": "markdown",
   "metadata": {},
   "source": [
    "__Requesting data through the Spotify Web API often led to request time outs, so the process was divided up into 5 chunks of work...__"
   ]
  },
  {
   "cell_type": "code",
   "execution_count": 113,
   "metadata": {
    "collapsed": true
   },
   "outputs": [],
   "source": [
    "def artist_sublists1(list):\n",
    "    sublists = []\n",
    "    start, end = 1, 101\n",
    "    count = 0\n",
    "    while count < 20:\n",
    "        sl = list[start: end]\n",
    "        sublists.append(sl)\n",
    "        start += 100\n",
    "        end += 100\n",
    "        count += 1\n",
    "    return sublists"
   ]
  },
  {
   "cell_type": "code",
   "execution_count": 114,
   "metadata": {
    "collapsed": true
   },
   "outputs": [],
   "source": [
    "artist_sublists1 = artist_sublists1(all_artists)"
   ]
  },
  {
   "cell_type": "code",
   "execution_count": 104,
   "metadata": {
    "collapsed": true
   },
   "outputs": [],
   "source": [
    "def popularity_dictionary(list):\n",
    "    pop_dict = {}\n",
    "    for name in list:\n",
    "        results = sp.search(q='artist:' + name, type='artist')\n",
    "        if results['artists']['items'] == []:\n",
    "            pop_dict[name] = np.nan\n",
    "        else:\n",
    "            pop_dict[name] = results['artists']['items'][0]['popularity']\n",
    "    return pop_dict"
   ]
  },
  {
   "cell_type": "code",
   "execution_count": 115,
   "metadata": {
    "collapsed": true
   },
   "outputs": [],
   "source": [
    "part1= []\n",
    "\n",
    "for sl in artist_sublists1:\n",
    "    token = util.prompt_for_user_token(username,scope,client_id=\"ENTER CLIENT ID\",client_secret=\"ENTER CLIENT SECRET\",redirect_uri='http://localhost:8888/callback')\n",
    "    sp = spotipy.Spotify(auth=token)\n",
    "    pd = popularity_dictionary(sl)\n",
    "    part1.append(pd)\n",
    "    "
   ]
  },
  {
   "cell_type": "code",
   "execution_count": 123,
   "metadata": {
    "collapsed": true
   },
   "outputs": [],
   "source": [
    "def artist_sublists2(list):\n",
    "    sublists = []\n",
    "    start, end = 2100, 2201\n",
    "    count = 0\n",
    "    while count < 20:\n",
    "        sl = list[start: end]\n",
    "        sublists.append(sl)\n",
    "        start += 100\n",
    "        end += 100\n",
    "        count += 1\n",
    "    return sublists"
   ]
  },
  {
   "cell_type": "code",
   "execution_count": 124,
   "metadata": {
    "collapsed": true
   },
   "outputs": [],
   "source": [
    "artist_sublists2 = artist_sublists2(all_artists)"
   ]
  },
  {
   "cell_type": "code",
   "execution_count": 125,
   "metadata": {
    "collapsed": true
   },
   "outputs": [],
   "source": [
    "part2 = []\n",
    "\n",
    "for sl in artist_sublists2:\n",
    "    token = util.prompt_for_user_token(username,scope,client_id=\"ENTER CLIENT ID\",client_secret=\"ENTER CLIENT SECRET\",redirect_uri='http://localhost:8888/callback')\n",
    "    sp = spotipy.Spotify(auth=token)\n",
    "    pd = popularity_dictionary(sl)\n",
    "    part2.append(pd)"
   ]
  },
  {
   "cell_type": "code",
   "execution_count": 129,
   "metadata": {
    "collapsed": true
   },
   "outputs": [],
   "source": [
    "def artist_sublists3(list):\n",
    "    sublists = []\n",
    "    start, end = 4200, 4301\n",
    "    count = 0\n",
    "    while count < 20:\n",
    "        sl = list[start: end]\n",
    "        sublists.append(sl)\n",
    "        start += 100\n",
    "        end += 100\n",
    "        count += 1\n",
    "    return sublists"
   ]
  },
  {
   "cell_type": "code",
   "execution_count": 130,
   "metadata": {
    "collapsed": true
   },
   "outputs": [],
   "source": [
    "artist_sublists3 = artist_sublists3(all_artists)"
   ]
  },
  {
   "cell_type": "code",
   "execution_count": 137,
   "metadata": {
    "collapsed": true
   },
   "outputs": [],
   "source": [
    "part3 = []\n",
    "\n",
    "for sl in artist_sublists3:\n",
    "    token = util.prompt_for_user_token(username,scope,client_id=\"ENTER CLIENT ID\",client_secret=\"ENTER CLIENT SECRET\",redirect_uri='http://localhost:8888/callback')\n",
    "    sp = spotipy.Spotify(auth=token)\n",
    "    pd = popularity_dictionary(sl)\n",
    "    part3.append(pd)"
   ]
  },
  {
   "cell_type": "code",
   "execution_count": 139,
   "metadata": {
    "collapsed": true
   },
   "outputs": [],
   "source": [
    "def artist_sublists4(list):\n",
    "    sublists = []\n",
    "    start, end = 6300, 6401\n",
    "    count = 0\n",
    "    while count < 20:\n",
    "        sl = list[start: end]\n",
    "        sublists.append(sl)\n",
    "        start += 100\n",
    "        end += 100\n",
    "        count += 1\n",
    "    return sublists"
   ]
  },
  {
   "cell_type": "code",
   "execution_count": 140,
   "metadata": {
    "collapsed": true
   },
   "outputs": [],
   "source": [
    "artist_sublists4 = artist_sublists4(all_artists)"
   ]
  },
  {
   "cell_type": "code",
   "execution_count": 145,
   "metadata": {
    "collapsed": true
   },
   "outputs": [],
   "source": [
    "part4 = []\n",
    "\n",
    "for sl in artist_sublists4:\n",
    "    token = util.prompt_for_user_token(username,scope,client_id=\"ENTER CLIENT ID\",client_secret=\"ENTER CLIENT SECRET\",redirect_uri='http://localhost:8888/callback')\n",
    "    sp = spotipy.Spotify(auth=token)\n",
    "    pd = popularity_dictionary(sl)\n",
    "    part4.append(pd)"
   ]
  },
  {
   "cell_type": "code",
   "execution_count": 177,
   "metadata": {
    "collapsed": true
   },
   "outputs": [],
   "source": [
    "def artist_sublists5(list):\n",
    "    sublists = []\n",
    "    start, end = 8400, 8501\n",
    "    count = 0\n",
    "    while count < 20:\n",
    "        sl = list[start: end]\n",
    "        sublists.append(sl)\n",
    "        start += 100\n",
    "        end += 100\n",
    "        count += 1\n",
    "    return sublists"
   ]
  },
  {
   "cell_type": "code",
   "execution_count": 178,
   "metadata": {
    "collapsed": true
   },
   "outputs": [],
   "source": [
    "artist_sublists5 = artist_sublists5(all_artists)"
   ]
  },
  {
   "cell_type": "code",
   "execution_count": 182,
   "metadata": {},
   "outputs": [
    {
     "name": "stdout",
     "output_type": "stream",
     "text": [
      "retrying ...1secs\n"
     ]
    }
   ],
   "source": [
    "part5 = []\n",
    "\n",
    "for sl in artist_sublists5:\n",
    "    token = util.prompt_for_user_token(username,scope,client_id=\"ENTER CLIENT ID\",client_secret=\"ENTER CLIENT SECRET\",redirect_uri='http://localhost:8888/callback')\n",
    "    sp = spotipy.Spotify(auth=token)\n",
    "    pd = popularity_dictionary(sl)\n",
    "    part5.append(pd)"
   ]
  },
  {
   "cell_type": "markdown",
   "metadata": {},
   "source": [
    "__Combine all 5 parts of the dictionary into one__"
   ]
  },
  {
   "cell_type": "code",
   "execution_count": 184,
   "metadata": {
    "collapsed": true
   },
   "outputs": [],
   "source": [
    "all_artists = part1 + part2 + part3 + part4 + part5"
   ]
  },
  {
   "cell_type": "code",
   "execution_count": 210,
   "metadata": {
    "collapsed": true
   },
   "outputs": [],
   "source": [
    "spotify_popularity = {}\n",
    "\n",
    "for d in all_artists:\n",
    "    spotify_popularity.update(d)"
   ]
  },
  {
   "cell_type": "markdown",
   "metadata": {},
   "source": [
    "__Convert dictionary into a Pandas dataframe__"
   ]
  },
  {
   "cell_type": "code",
   "execution_count": 202,
   "metadata": {
    "collapsed": true
   },
   "outputs": [],
   "source": [
    "spotify_df = pd.DataFrame.from_dict(spotify, orient='index').reset_index()"
   ]
  },
  {
   "cell_type": "markdown",
   "metadata": {},
   "source": [
    "## Pickle the Spotify dataframe"
   ]
  },
  {
   "cell_type": "code",
   "execution_count": 212,
   "metadata": {
    "collapsed": true
   },
   "outputs": [],
   "source": [
    "import pickle\n",
    "\n",
    "with open('spotify.pkl', 'wb') as picklefile:\n",
    "    pickle.dump(spotify_popularity, picklefile)"
   ]
  }
 ],
 "metadata": {
  "kernelspec": {
   "display_name": "Python 3",
   "language": "python",
   "name": "python3"
  },
  "language_info": {
   "codemirror_mode": {
    "name": "ipython",
    "version": 3
   },
   "file_extension": ".py",
   "mimetype": "text/x-python",
   "name": "python",
   "nbconvert_exporter": "python",
   "pygments_lexer": "ipython3",
   "version": "3.6.1"
  }
 },
 "nbformat": 4,
 "nbformat_minor": 2
}
